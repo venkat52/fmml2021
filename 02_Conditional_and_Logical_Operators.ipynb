{
  "nbformat": 4,
  "nbformat_minor": 0,
  "metadata": {
    "colab": {
      "name": "02_Conditional_and_Logical_Operators.ipynb",
      "provenance": [],
      "include_colab_link": true
    },
    "kernelspec": {
      "name": "python3",
      "display_name": "Python 3"
    },
    "language_info": {
      "name": "python"
    }
  },
  "cells": [
    {
      "cell_type": "markdown",
      "metadata": {
        "id": "view-in-github",
        "colab_type": "text"
      },
      "source": [
        "<a href=\"https://colab.research.google.com/github/venkat52/fmml2021/blob/main/02_Conditional_and_Logical_Operators.ipynb\" target=\"_parent\"><img src=\"https://colab.research.google.com/assets/colab-badge.svg\" alt=\"Open In Colab\"/></a>"
      ]
    },
    {
      "cell_type": "code",
      "metadata": {
        "id": "d_4Xzhe4p5Jh",
        "outputId": "d3c6bb8c-8054-4220-f5c9-c8b17bd9de7b",
        "colab": {
          "base_uri": "https://localhost:8080/"
        }
      },
      "source": [
        "!python --version"
      ],
      "execution_count": 1,
      "outputs": [
        {
          "output_type": "stream",
          "name": "stdout",
          "text": [
            "Python 3.7.11\n"
          ]
        }
      ]
    },
    {
      "cell_type": "markdown",
      "metadata": {
        "id": "LQ7shzxUfj6N"
      },
      "source": [
        "### Conditional and Logical Operators"
      ]
    },
    {
      "cell_type": "markdown",
      "metadata": {
        "id": "PI0fJw10fswU"
      },
      "source": [
        "#### Conditional Operators\n",
        "```\n",
        "< less than \n",
        "> greater than\n",
        "== equal to\n",
        "!= not equal to\n",
        "<= less than or equal to\n",
        ">= greater than or equal to\n",
        "```\n",
        "\n",
        "\n",
        "\n"
      ]
    },
    {
      "cell_type": "code",
      "metadata": {
        "id": "dm1hT_B9jXGu",
        "outputId": "e943f670-4e79-49c7-9447-f198eeafebfd",
        "colab": {
          "base_uri": "https://localhost:8080/"
        }
      },
      "source": [
        "5 < 3"
      ],
      "execution_count": 2,
      "outputs": [
        {
          "output_type": "execute_result",
          "data": {
            "text/plain": [
              "False"
            ]
          },
          "metadata": {},
          "execution_count": 2
        }
      ]
    },
    {
      "cell_type": "code",
      "metadata": {
        "id": "BjHkFO4SbEhb",
        "outputId": "07e80370-57a4-4f24-a254-103cb615fb74",
        "colab": {
          "base_uri": "https://localhost:8080/"
        }
      },
      "source": [
        "5 > 3"
      ],
      "execution_count": 3,
      "outputs": [
        {
          "output_type": "execute_result",
          "data": {
            "text/plain": [
              "True"
            ]
          },
          "metadata": {},
          "execution_count": 3
        }
      ]
    },
    {
      "cell_type": "code",
      "metadata": {
        "id": "2DtiCXDAbISf",
        "outputId": "841b7d74-be01-4274-8643-2e042fe91ed3",
        "colab": {
          "base_uri": "https://localhost:8080/"
        }
      },
      "source": [
        "5 == 3"
      ],
      "execution_count": 4,
      "outputs": [
        {
          "output_type": "execute_result",
          "data": {
            "text/plain": [
              "False"
            ]
          },
          "metadata": {},
          "execution_count": 4
        }
      ]
    },
    {
      "cell_type": "code",
      "metadata": {
        "id": "4Dc_T_mUbPb1",
        "outputId": "9c3b327e-013c-43c1-9653-7645235d4b96",
        "colab": {
          "base_uri": "https://localhost:8080/"
        }
      },
      "source": [
        "5 != 3"
      ],
      "execution_count": 5,
      "outputs": [
        {
          "output_type": "execute_result",
          "data": {
            "text/plain": [
              "True"
            ]
          },
          "metadata": {},
          "execution_count": 5
        }
      ]
    },
    {
      "cell_type": "code",
      "metadata": {
        "id": "XSW7YMtabQ4E"
      },
      "source": [
        "akbar_age = 43\n",
        "antony_age = 53"
      ],
      "execution_count": 6,
      "outputs": []
    },
    {
      "cell_type": "code",
      "metadata": {
        "id": "KVCzBU1xbbm0",
        "outputId": "d8f1eb55-cb3d-457f-ff42-8afbc05d2bb0",
        "colab": {
          "base_uri": "https://localhost:8080/"
        }
      },
      "source": [
        "akbar_age < antony_age"
      ],
      "execution_count": 7,
      "outputs": [
        {
          "output_type": "execute_result",
          "data": {
            "text/plain": [
              "True"
            ]
          },
          "metadata": {},
          "execution_count": 7
        }
      ]
    },
    {
      "cell_type": "code",
      "metadata": {
        "id": "gs2hOefnbnsF",
        "outputId": "aa8ec46b-eec9-461b-e4c5-aa25a270e251",
        "colab": {
          "base_uri": "https://localhost:8080/"
        }
      },
      "source": [
        "(akbar_age > antony_age)"
      ],
      "execution_count": 8,
      "outputs": [
        {
          "output_type": "execute_result",
          "data": {
            "text/plain": [
              "False"
            ]
          },
          "metadata": {},
          "execution_count": 8
        }
      ]
    },
    {
      "cell_type": "markdown",
      "metadata": {
        "id": "ifAKT3zM3_AF"
      },
      "source": [
        "#### Logical Operators\n",
        "```\n",
        "and\n",
        "or\n",
        "not\n",
        "```"
      ]
    },
    {
      "cell_type": "code",
      "metadata": {
        "id": "wy1D4AdmcVyA",
        "outputId": "378cf845-51be-469a-c94a-c5d1db0a4e9c",
        "colab": {
          "base_uri": "https://localhost:8080/"
        }
      },
      "source": [
        "(akbar_age < 40)"
      ],
      "execution_count": 9,
      "outputs": [
        {
          "output_type": "execute_result",
          "data": {
            "text/plain": [
              "False"
            ]
          },
          "metadata": {},
          "execution_count": 9
        }
      ]
    },
    {
      "cell_type": "code",
      "metadata": {
        "id": "EeBrBGomcYEO",
        "outputId": "31db0826-af4d-4975-a537-b2a6738e8168",
        "colab": {
          "base_uri": "https://localhost:8080/"
        }
      },
      "source": [
        "(antony_age > 40)"
      ],
      "execution_count": 10,
      "outputs": [
        {
          "output_type": "execute_result",
          "data": {
            "text/plain": [
              "True"
            ]
          },
          "metadata": {},
          "execution_count": 10
        }
      ]
    },
    {
      "cell_type": "code",
      "metadata": {
        "id": "O0kjtUXe4K1e",
        "outputId": "5f55afdb-fecd-415a-ea1d-2635d9e43160",
        "colab": {
          "base_uri": "https://localhost:8080/"
        }
      },
      "source": [
        "(akbar_age < 40) or (antony_age > 40)"
      ],
      "execution_count": 11,
      "outputs": [
        {
          "output_type": "execute_result",
          "data": {
            "text/plain": [
              "True"
            ]
          },
          "metadata": {},
          "execution_count": 11
        }
      ]
    },
    {
      "cell_type": "code",
      "metadata": {
        "id": "fB52_Yeo0Bv-",
        "outputId": "0184e612-bd15-4bf3-84a9-7c258395272c",
        "colab": {
          "base_uri": "https://localhost:8080/"
        }
      },
      "source": [
        "False or True"
      ],
      "execution_count": 12,
      "outputs": [
        {
          "output_type": "execute_result",
          "data": {
            "text/plain": [
              "True"
            ]
          },
          "metadata": {},
          "execution_count": 12
        }
      ]
    },
    {
      "cell_type": "code",
      "metadata": {
        "id": "mpBhFHZhcprc",
        "outputId": "754fa17c-c0ab-42bc-99ed-1621c14fa5c0",
        "colab": {
          "base_uri": "https://localhost:8080/"
        }
      },
      "source": [
        "(akbar_age < 40) and (antony_age > 40)"
      ],
      "execution_count": 13,
      "outputs": [
        {
          "output_type": "execute_result",
          "data": {
            "text/plain": [
              "False"
            ]
          },
          "metadata": {},
          "execution_count": 13
        }
      ]
    },
    {
      "cell_type": "code",
      "metadata": {
        "id": "mdkmh4K3ct3-",
        "outputId": "302093e5-68b4-4cee-f6c0-1a28231d5154",
        "colab": {
          "base_uri": "https://localhost:8080/"
        }
      },
      "source": [
        "False and True"
      ],
      "execution_count": 14,
      "outputs": [
        {
          "output_type": "execute_result",
          "data": {
            "text/plain": [
              "False"
            ]
          },
          "metadata": {},
          "execution_count": 14
        }
      ]
    },
    {
      "cell_type": "code",
      "metadata": {
        "id": "rJUB382Ecz4M",
        "outputId": "468bf14a-33ee-470d-fe85-1d9ae1530984",
        "colab": {
          "base_uri": "https://localhost:8080/"
        }
      },
      "source": [
        "not (akbar_age < 40)"
      ],
      "execution_count": 15,
      "outputs": [
        {
          "output_type": "execute_result",
          "data": {
            "text/plain": [
              "True"
            ]
          },
          "metadata": {},
          "execution_count": 15
        }
      ]
    },
    {
      "cell_type": "code",
      "metadata": {
        "id": "TknwOBHtdAPg",
        "outputId": "0003eac6-f683-4c60-ba8e-98cd691d6f52",
        "colab": {
          "base_uri": "https://localhost:8080/"
        }
      },
      "source": [
        "not False"
      ],
      "execution_count": 16,
      "outputs": [
        {
          "output_type": "execute_result",
          "data": {
            "text/plain": [
              "True"
            ]
          },
          "metadata": {},
          "execution_count": 16
        }
      ]
    },
    {
      "cell_type": "markdown",
      "metadata": {
        "id": "vUAWMNbjiSvf"
      },
      "source": [
        "#### References"
      ]
    },
    {
      "cell_type": "markdown",
      "metadata": {
        "id": "KmpvkMmKiVcZ"
      },
      "source": [
        "1. [Python Operators](https://www.w3schools.com/python/python_operators.asp) and [Python Exercises](https://www.w3schools.com/python/exercise.asp)\n",
        "2. [Official Python Documentation](https://docs.python.org/3/tutorial/introduction.html)\n",
        "\n"
      ]
    }
  ]
}